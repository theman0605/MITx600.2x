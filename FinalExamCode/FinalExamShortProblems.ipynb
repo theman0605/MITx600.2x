{
 "cells": [
  {
   "cell_type": "markdown",
   "metadata": {},
   "source": [
    "# Problem 3"
   ]
  },
  {
   "cell_type": "code",
   "execution_count": 1,
   "metadata": {
    "collapsed": false
   },
   "outputs": [],
   "source": [
    "%matplotlib inline\n",
    "import random"
   ]
  },
  {
   "cell_type": "code",
   "execution_count": 2,
   "metadata": {
    "collapsed": true
   },
   "outputs": [],
   "source": [
    "def drawing_without_replacement_sim(numTrials):\n",
    "    '''\n",
    "    Runs numTrials trials of a Monte Carlo simulation\n",
    "    of drawing 3 balls out of a bucket containing\n",
    "    4 red and 4 green balls. Balls are not replaced once\n",
    "    drawn. Returns a float - the fraction of times 3 \n",
    "    balls of the same color were drawn in the first 3 draws.\n",
    "    '''\n",
    "    import random\n",
    "    bucket = [1,1,1,1,2,2,2,2]\n",
    "    result = 0\n",
    "    for i in range(numTrials):\n",
    "        draw = random.sample(bucket,3)\n",
    "        if len(set(draw)) == 1:\n",
    "            result += 1\n",
    "    return result/numTrials"
   ]
  },
  {
   "cell_type": "code",
   "execution_count": 3,
   "metadata": {
    "collapsed": false
   },
   "outputs": [
    {
     "data": {
      "text/plain": [
       "0.1433"
      ]
     },
     "execution_count": 3,
     "metadata": {},
     "output_type": "execute_result"
    }
   ],
   "source": [
    "drawing_without_replacement_sim(100000)"
   ]
  },
  {
   "cell_type": "markdown",
   "metadata": {},
   "source": [
    "# Problem 4-1"
   ]
  },
  {
   "cell_type": "code",
   "execution_count": 4,
   "metadata": {
    "collapsed": false
   },
   "outputs": [],
   "source": [
    "import pylab"
   ]
  },
  {
   "cell_type": "code",
   "execution_count": 5,
   "metadata": {
    "collapsed": false
   },
   "outputs": [],
   "source": [
    "def makeHistogram(values, numBins, xLabel, yLabel, title=None):\n",
    "    \"\"\"\n",
    "      - values, a list of numbers\n",
    "      - numBins, a positive int\n",
    "      - xLabel, yLabel, title, are strings\n",
    "      - Produces a histogram of values with numBins bins and the indicated labels\n",
    "        for the x and y axes\n",
    "      - If title is provided by caller, puts that title on the figure and otherwise\n",
    "        does not title the figure\n",
    "    \"\"\"\n",
    "    if title !=None:\n",
    "        pylab.title(title)\n",
    "    pylab.hist(values, numBins)\n",
    "    pylab.xlabel(xLabel)\n",
    "    pylab.ylabel(yLabel)\n",
    "    pylab.show()"
   ]
  },
  {
   "cell_type": "code",
   "execution_count": 6,
   "metadata": {
    "collapsed": false
   },
   "outputs": [
    {
     "data": {
      "image/png": "[encoded data removed]",
      "text/plain": [
       "<matplotlib.figure.Figure at 0x10a3d9630>"
      ]
     },
     "metadata": {},
     "output_type": "display_data"
    }
   ],
   "source": [
    "data = [1,2,3,4,5,4,3,2,1,2,3,4,5,6,7,6,5,4,3,2,1]\n",
    "makeHistogram(data, 5, 'Counts', 'Number', 'TestRun')"
   ]
  },
  {
   "cell_type": "markdown",
   "metadata": {
    "collapsed": false
   },
   "source": [
    "# Problem 4-2"
   ]
  },
  {
   "cell_type": "code",
   "execution_count": 7,
   "metadata": {
    "collapsed": false
   },
   "outputs": [],
   "source": [
    "import random, pylab\n",
    "\n",
    "# You are given this function\n",
    "def getMeanAndStd(X):\n",
    "    mean = sum(X)/float(len(X))\n",
    "    tot = 0.0\n",
    "    for x in X:\n",
    "        tot += (x - mean)**2\n",
    "    std = (tot/len(X))**0.5\n",
    "    return mean, std\n",
    "\n",
    "# You are given this class\n",
    "class Die(object):\n",
    "    def __init__(self, valList):\n",
    "        \"\"\" valList is not empty \"\"\"\n",
    "        self.possibleVals = valList[:]\n",
    "    def roll(self):\n",
    "        return random.choice(self.possibleVals)"
   ]
  },
  {
   "cell_type": "code",
   "execution_count": 8,
   "metadata": {
    "collapsed": false
   },
   "outputs": [],
   "source": [
    "# Implement this -- Coding Part 2 of 2\n",
    "def getAverage(die, numRolls, numTrials):\n",
    "    \"\"\"\n",
    "      - die, a Die\n",
    "      - numRolls, numTrials, are positive ints\n",
    "      - Calculates the expected mean value of the longest run of a number\n",
    "        over numTrials runs of numRolls rolls.\n",
    "      - Calls makeHistogram to produce a histogram of the longest runs for all\n",
    "        the trials. There should be 10 bins in the histogram\n",
    "      - Choose appropriate labels for the x and y axes.\n",
    "      - Returns the mean calculated\n",
    "    \"\"\"\n",
    "    popLongestRuns = []\n",
    "    for trial in range(numTrials):\n",
    "        longestRun = 1\n",
    "        currentRun = 1\n",
    "        allRolls = []\n",
    "        for roll in range(numRolls):\n",
    "            allRolls.append(die.roll())\n",
    "        # Check for longest run\n",
    "        for idx, entry in enumerate(allRolls):\n",
    "            try:\n",
    "                if allRolls[idx] == allRolls[idx+1]:\n",
    "                    currentRun += 1\n",
    "                else:\n",
    "                    currentRun = 1\n",
    "            except IndexError:\n",
    "                pass\n",
    "            if currentRun > longestRun:\n",
    "                longestRun = currentRun\n",
    "        popLongestRuns.append(longestRun)\n",
    "    makeHistogram(popLongestRuns, 10, 'Longest Runs', 'Counts', 'Histogram of Longest Runs')\n",
    "    popMean, popStd = getMeanAndStd(popLongestRuns)\n",
    "    return round(popMean, 3)"
   ]
  },
  {
   "cell_type": "code",
   "execution_count": 9,
   "metadata": {
    "collapsed": false
   },
   "outputs": [
    {
     "data": {
      "image/png": "[encoded data removed]",
      "text/plain": [
       "<matplotlib.figure.Figure at 0x103efb6d8>"
      ]
     },
     "metadata": {},
     "output_type": "display_data"
    },
    {
     "name": "stdout",
     "output_type": "stream",
     "text": [
      "5.335\n"
     ]
    }
   ],
   "source": [
    "print(getAverage(Die([1,2,3,4,5,6,6,6,7]), 500, 10000))"
   ]
  },
  {
   "cell_type": "markdown",
   "metadata": {
    "collapsed": false
   },
   "source": [
    "# Problem 6"
   ]
  },
  {
   "cell_type": "code",
   "execution_count": 10,
   "metadata": {
    "collapsed": false
   },
   "outputs": [],
   "source": [
    "# generate all combinations of N items\n",
    "def powerSet(items):\n",
    "    N = len(items)\n",
    "    # enumerate the 2**N possible combinations\n",
    "    for i in range(2**N):\n",
    "        combo = []\n",
    "        for j in range(N):\n",
    "            # test bit jth of integer i\n",
    "            if (i >> j) % 2 == 1:\n",
    "                combo.append(items[j])\n",
    "        yield combo"
   ]
  },
  {
   "cell_type": "code",
   "execution_count": 41,
   "metadata": {
    "collapsed": false
   },
   "outputs": [],
   "source": [
    "def find_combination(choices, total):\n",
    "    \"\"\"\n",
    "    choices: a non-empty list of ints\n",
    "    total: a positive int\n",
    " \n",
    "    Returns result, a numpy.array of length len(choices) \n",
    "    such that\n",
    "        * each element of result is 0 or 1\n",
    "        * sum(result*choices) == total\n",
    "        * sum(result) is as small as possible\n",
    "    In case of ties, returns any result that works.\n",
    "    If there is no result that gives the exact total, \n",
    "    pick the one that gives sum(result*choices) closest \n",
    "    to total without going over.\n",
    "    \"\"\"\n",
    "    import numpy as np\n",
    "    workingChoices = choices[:]\n",
    "    combos = powerSet(choices)\n",
    "    powerSetDict = {}\n",
    "    greatest = []\n",
    "    for entry in combos:\n",
    "        if sum(entry) <= total:\n",
    "            try:\n",
    "                powerSetDict[sum(entry)].append(entry)\n",
    "            except KeyError:\n",
    "                powerSetDict[sum(entry)] = [entry]\n",
    "    for entry in powerSetDict:\n",
    "        powerSetDict[entry].sort(reverse=True)\n",
    "    indexList = powerSetDict[max(powerSetDict)][0]\n",
    "    for idx, entry in enumerate(workingChoices):\n",
    "        if entry in indexList:\n",
    "            workingChoices[idx] = 1\n",
    "            indexList.remove(entry)\n",
    "        else:\n",
    "            workingChoices[idx] = 0\n",
    "    return np.array(workingChoices)"
   ]
  },
  {
   "cell_type": "code",
   "execution_count": 43,
   "metadata": {
    "collapsed": false
   },
   "outputs": [
    {
     "data": {
      "text/plain": [
       "array([0, 0, 0, 0, 0])"
      ]
     },
     "execution_count": 43,
     "metadata": {},
     "output_type": "execute_result"
    }
   ],
   "source": [
    "find_combination([4, 10, 3, 5, 8], 1)"
   ]
  },
  {
   "cell_type": "code",
   "execution_count": 44,
   "metadata": {
    "collapsed": false
   },
   "outputs": [
    {
     "data": {
      "text/plain": [
       "array([1, 0, 1, 0, 0, 0])"
      ]
     },
     "execution_count": 44,
     "metadata": {},
     "output_type": "execute_result"
    }
   ],
   "source": [
    "find_combination([1, 81, 3, 102, 450, 10], 9)"
   ]
  },
  {
   "cell_type": "code",
   "execution_count": 45,
   "metadata": {
    "collapsed": false
   },
   "outputs": [
    {
     "data": {
      "text/plain": [
       "array([1])"
      ]
     },
     "execution_count": 45,
     "metadata": {},
     "output_type": "execute_result"
    }
   ],
   "source": [
    "find_combination([1], 10)"
   ]
  },
  {
   "cell_type": "code",
   "execution_count": null,
   "metadata": {
    "collapsed": false
   },
   "outputs": [],
   "source": []
  },
  {
   "cell_type": "code",
   "execution_count": null,
   "metadata": {
    "collapsed": false
   },
   "outputs": [],
   "source": []
  },
  {
   "cell_type": "code",
   "execution_count": null,
   "metadata": {
    "collapsed": false
   },
   "outputs": [],
   "source": []
  },
  {
   "cell_type": "code",
   "execution_count": null,
   "metadata": {
    "collapsed": false
   },
   "outputs": [],
   "source": []
  },
  {
   "cell_type": "code",
   "execution_count": null,
   "metadata": {
    "collapsed": true
   },
   "outputs": [],
   "source": []
  }
 ],
 "metadata": {
  "anaconda-cloud": {},
  "kernelspec": {
   "display_name": "Python [py35]",
   "language": "python",
   "name": "Python [py35]"
  },
  "language_info": {
   "codemirror_mode": {
    "name": "ipython",
    "version": 3
   },
   "file_extension": ".py",
   "mimetype": "text/x-python",
   "name": "python",
   "nbconvert_exporter": "python",
   "pygments_lexer": "ipython3",
   "version": "3.5.2"
  }
 },
 "nbformat": 4,
 "nbformat_minor": 0
}
